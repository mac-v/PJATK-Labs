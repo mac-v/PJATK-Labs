{
 "cells": [
  {
   "cell_type": "markdown",
   "id": "6914906e-8822-4979-b600-c2b9e06782a5",
   "metadata": {},
   "source": [
    "# Lesson 1"
   ]
  },
  {
   "attachments": {},
   "cell_type": "markdown",
   "id": "3a87edd6-7487-4986-bf1c-b7d12ef6a764",
   "metadata": {},
   "source": [
    "![Description](description.png)"
   ]
  },
  {
   "cell_type": "markdown",
   "id": "4c9adca3-1a06-4be2-9544-b1ab289950e8",
   "metadata": {},
   "source": [
    "## Task 1"
   ]
  },
  {
   "cell_type": "code",
   "execution_count": 32,
   "id": "73ab2440-a0a6-4f3c-85b0-4dfa061230df",
   "metadata": {},
   "outputs": [],
   "source": [
    "import ipytest\n",
    "ipytest.autoconfig()"
   ]
  },
  {
   "cell_type": "code",
   "execution_count": 33,
   "id": "47d2b916-3476-4752-8746-110eb9a9cc1f",
   "metadata": {},
   "outputs": [
    {
     "name": "stdout",
     "output_type": "stream",
     "text": [
      "\u001b[32m.\u001b[0m\u001b[32m.\u001b[0m\u001b[32m.\u001b[0m\u001b[32m                                                                                          [100%]\u001b[0m\n",
      "\u001b[32m\u001b[32m\u001b[1m3 passed\u001b[0m\u001b[32m in 0.03s\u001b[0m\u001b[0m\n"
     ]
    },
    {
     "data": {
      "text/plain": [
       "<ExitCode.OK: 0>"
      ]
     },
     "execution_count": 33,
     "metadata": {},
     "output_type": "execute_result"
    }
   ],
   "source": [
    "def calculate_bmi(weight, height):\n",
    "    \"\"\"Calcualate BMI (Body Mass Index).\n",
    "\n",
    "    Args:\n",
    "    weight (Union[float, int]) -- weight in kilograms\n",
    "    height (Union[float, int]) -- height in meters\n",
    "    \n",
    "    Raises:\n",
    "    ValueError: If weight or height is not a positive number\n",
    "    \"\"\"\n",
    "\n",
    "    if not isinstance(weight, (int,float)) or not isinstance(height, (int,float)):\n",
    "        raise ValueError(\"Weight and height must be int or float\")\n",
    "    if weight <=0 or height <=0:\n",
    "        raise ValueError(\"Weight and height must be positive numbers\")\n",
    "    \n",
    "    return round(weight / (height ** 2), 2)\n",
    "\n",
    "\n",
    "def test_bmi_calculation():\n",
    "    assert calculate_bmi(87.5, 1.75) == 28.57\n",
    "    assert calculate_bmi(25, 1) == 25.0\n",
    "\n",
    "def test_invalid_values():\n",
    "    with pytest.raises(ValueError, match=\"Weight and height must be positive numbers\"):\n",
    "        calculate_bmi(0, 1.75)\n",
    "        \n",
    "    with pytest.raises(ValueError, match=\"Weight and height must be positive numbers\"):\n",
    "        calculate_bmi(-5, 1.75)\n",
    "\n",
    "    with pytest.raises(ValueError, match=\"Weight and height must be positive numbers\"):\n",
    "        calculate_bmi(70, 0)\n",
    "        \n",
    "    with pytest.raises(ValueError, match=\"Weight and height must be positive numbers\"):\n",
    "        calculate_bmi(70, -1.75)\n",
    "\n",
    "def test_invalid_types():\n",
    "    for invalid_value in [\"a\", [], {}, None]:\n",
    "        with pytest.raises(ValueError, match=\"Weight and height must be int or float\"):\n",
    "            calculate_bmi(invalid_value, 2)\n",
    "\n",
    "    for invalid_value in [\"b\", [], {}, None]:\n",
    "        with pytest.raises(ValueError, match=\"Weight and height must be int or float\"):\n",
    "            calculate_bmi(70, invalid_value)\n",
    "\n",
    "ipytest.run()"
   ]
  },
  {
   "cell_type": "code",
   "execution_count": null,
   "id": "1473d5a8-76ca-4e4e-b5b5-7dacc7e46201",
   "metadata": {},
   "outputs": [],
   "source": []
  }
 ],
 "metadata": {
  "kernelspec": {
   "display_name": "Python 3 (ipykernel)",
   "language": "python",
   "name": "python3"
  },
  "language_info": {
   "codemirror_mode": {
    "name": "ipython",
    "version": 3
   },
   "file_extension": ".py",
   "mimetype": "text/x-python",
   "name": "python",
   "nbconvert_exporter": "python",
   "pygments_lexer": "ipython3",
   "version": "3.11.5"
  }
 },
 "nbformat": 4,
 "nbformat_minor": 5
}

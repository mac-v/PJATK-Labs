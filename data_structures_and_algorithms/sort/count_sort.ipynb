{
 "cells": [
  {
   "metadata": {},
   "cell_type": "markdown",
   "source": [
    "# Count sort\n",
    "### Pros\n",
    "* complexity\n",
    "* easy to explain and understand\n",
    "### Cons\n",
    "* not universal\n",
    "* knowledge of max value"
   ],
   "id": "cca13ef21b8ebbe3"
  },
  {
   "metadata": {
    "ExecuteTime": {
     "end_time": "2025-01-24T17:45:24.916934Z",
     "start_time": "2025-01-24T17:45:24.913185Z"
    }
   },
   "cell_type": "code",
   "source": [
    "elements = [32,1,4,6,1,2,9]\n",
    "\n",
    "def count_sort(elements):\n",
    "    counts = [0] * (max(elements)+1)\n",
    "    for i in range(len(elements)):\n",
    "        counts[elements[i]] += 1\n",
    "    sorted = []\n",
    "    for i in range(len(counts)):\n",
    "        for _ in range(counts[i]):\n",
    "            sorted.append(i)\n",
    "    return sorted\n",
    "sorted = count_sort(elements)\n",
    "print(sorted)"
   ],
   "id": "1ab38510c7e0cf9e",
   "outputs": [
    {
     "name": "stdout",
     "output_type": "stream",
     "text": [
      "[1, 1, 2, 4, 6, 9, 32]\n"
     ]
    }
   ],
   "execution_count": 31
  },
  {
   "metadata": {},
   "cell_type": "code",
   "outputs": [],
   "execution_count": null,
   "source": "",
   "id": "e862fba8e48adf5a"
  }
 ],
 "metadata": {
  "kernelspec": {
   "name": "python3",
   "language": "python",
   "display_name": "Python 3 (ipykernel)"
  }
 },
 "nbformat": 5,
 "nbformat_minor": 9
}

{
 "cells": [
  {
   "cell_type": "code",
   "execution_count": null,
   "metadata": {},
   "outputs": [],
   "source": []
  },
  {
   "cell_type": "markdown",
   "metadata": {},
   "source": [
    "# Task 1"
   ]
  },
  {
   "cell_type": "code",
   "execution_count": 2,
   "metadata": {},
   "outputs": [
    {
     "name": "stdout",
     "output_type": "stream",
     "text": [
      "20\n",
      "4\n"
     ]
    }
   ],
   "source": [
    "add = lambda x:x+15\n",
    "print(add(5))\n",
    "\n",
    "multiply = lambda x,y: x*y\n",
    "print(multiply(2,2)) \n"
   ]
  },
  {
   "cell_type": "markdown",
   "metadata": {},
   "source": [
    "# Task 2"
   ]
  },
  {
   "cell_type": "code",
   "execution_count": 42,
   "metadata": {},
   "outputs": [
    {
     "name": "stdout",
     "output_type": "stream",
     "text": [
      "{'make': 'Nokia', 'model': 216, 'color': 'Black'}\n",
      "[{'make': 'Mi Max', 'model': 2, 'color': 'Gold'}, {'make': 'Nokia', 'model': 216, 'color': 'Black'}, {'make': 'Samsung', 'model': 7, 'color': 'Blue'}]\n"
     ]
    }
   ],
   "source": [
    "phones = [\n",
    "    {'make': 'Nokia', 'model': 216, 'color': 'Black'},\n",
    "    {'make': 'Mi Max', 'model': 2, 'color': 'Gold'},\n",
    "    {'make': 'Samsung', 'model': 7, 'color': 'Blue'}\n",
    "]\n",
    "\n",
    "\n",
    "def sort_phones_by_keys(phones, *args):\n",
    "    \"\"\"Sort list of dictionaries based on given arguments.\"\"\"\n",
    "    if phones == None or phones == []:\n",
    "        raise ValueError(\"Passed list is empty or None\")\n",
    "    \n",
    "    sort_keys = args\n",
    "    if sort_keys == ():\n",
    "        return phones\n",
    "        # Assuming that keys are the same in all dictonaries\n",
    "    if not all(key in phones[0].keys() for key in sort_keys):\n",
    "         \n",
    "        raise ValueError(\"Passed keys not in list of dict\")\n",
    "    else:\n",
    "        return sorted(phones, key=lambda x:tuple(x[key] for key in sort_keys))\n",
    "    \n",
    "    \n",
    "print(sort_phones_by_keys(phones, 'make', 'model', 'color'))"
   ]
  },
  {
   "cell_type": "markdown",
   "metadata": {},
   "source": [
    "# Task 3"
   ]
  },
  {
   "cell_type": "code",
   "execution_count": 49,
   "metadata": {},
   "outputs": [
    {
     "data": {
      "text/plain": [
       "([1, 4, 9, 16, 25, 36, 49, 64, 81, 100],\n",
       " [1, 8, 27, 64, 125, 216, 343, 512, 729, 1000])"
      ]
     },
     "execution_count": 49,
     "metadata": {},
     "output_type": "execute_result"
    }
   ],
   "source": [
    "list_of_ints = [1, 2, 3, 4, 5, 6, 7, 8, 9, 10]\n",
    "power_list = lambda list: ([pow(x, 2) for x in list], [pow(x, 3) for x in list]) \n",
    "power_list(list_of_ints)\n"
   ]
  },
  {
   "cell_type": "code",
   "execution_count": null,
   "metadata": {},
   "outputs": [],
   "source": []
  },
  {
   "cell_type": "code",
   "execution_count": null,
   "metadata": {},
   "outputs": [],
   "source": []
  }
 ],
 "metadata": {
  "kernelspec": {
   "display_name": "Python 3",
   "language": "python",
   "name": "python3"
  },
  "language_info": {
   "codemirror_mode": {
    "name": "ipython",
    "version": 3
   },
   "file_extension": ".py",
   "mimetype": "text/x-python",
   "name": "python",
   "nbconvert_exporter": "python",
   "pygments_lexer": "ipython3",
   "version": "3.11.5"
  }
 },
 "nbformat": 4,
 "nbformat_minor": 2
}

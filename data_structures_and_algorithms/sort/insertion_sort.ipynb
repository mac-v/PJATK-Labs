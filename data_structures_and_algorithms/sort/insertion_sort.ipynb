{
 "cells": [
  {
   "metadata": {},
   "cell_type": "markdown",
   "source": "# Insertion Sort",
   "id": "6b3c1bc14b7aafd0"
  },
  {
   "metadata": {
    "ExecuteTime": {
     "end_time": "2025-01-12T21:05:53.254588Z",
     "start_time": "2025-01-12T21:05:53.244910Z"
    }
   },
   "cell_type": "code",
   "source": [
    "def insertion_sort(elements):\n",
    "    compares_count = 0\n",
    "    print(\"Iteration 0:\", elements)\n",
    "\n",
    "    for i in range(1, len(elements)):\n",
    "        current_value = elements[i]\n",
    "        j = i - 1\n",
    "\n",
    "        print(\"Current value is: \", current_value)\n",
    "\n",
    "        while j >= 0:\n",
    "            compares_count += 1\n",
    "            if elements[j] > current_value:\n",
    "                print(\"Changing: \", elements[j], \"and \", elements[j + 1])\n",
    "                elements[j + 1] = elements[j]\n",
    "                j -= 1\n",
    "            else:\n",
    "                break\n",
    "\n",
    "        elements[j + 1] = current_value\n",
    "        print(f\"Step {i}: {elements}\")\n",
    "\n",
    "    print(\"Compare count: \", compares_count)\n",
    "    print(\"Ordered elements: \", elements)\n",
    "    return elements\n",
    "\n",
    "\n",
    "# Przykładowe użycie\n",
    "elements = [5,3,1,8,7,4,2,6]\n",
    "sorted_elements = insertion_sort(elements)\n"
   ],
   "id": "f4de6db743434db6",
   "outputs": [
    {
     "name": "stdout",
     "output_type": "stream",
     "text": [
      "Iteration 0: [5, 3, 1, 8, 7, 4, 2, 6]\n",
      "Current value is:  3\n",
      "Changing:  5 and  3\n",
      "Step 1: [3, 5, 1, 8, 7, 4, 2, 6]\n",
      "Current value is:  1\n",
      "Changing:  5 and  1\n",
      "Changing:  3 and  5\n",
      "Step 2: [1, 3, 5, 8, 7, 4, 2, 6]\n",
      "Current value is:  8\n",
      "Step 3: [1, 3, 5, 8, 7, 4, 2, 6]\n",
      "Current value is:  7\n",
      "Changing:  8 and  7\n",
      "Step 4: [1, 3, 5, 7, 8, 4, 2, 6]\n",
      "Current value is:  4\n",
      "Changing:  8 and  4\n",
      "Changing:  7 and  8\n",
      "Changing:  5 and  7\n",
      "Step 5: [1, 3, 4, 5, 7, 8, 2, 6]\n",
      "Current value is:  2\n",
      "Changing:  8 and  2\n",
      "Changing:  7 and  8\n",
      "Changing:  5 and  7\n",
      "Changing:  4 and  5\n",
      "Changing:  3 and  4\n",
      "Step 6: [1, 2, 3, 4, 5, 7, 8, 6]\n",
      "Current value is:  6\n",
      "Changing:  8 and  6\n",
      "Changing:  7 and  8\n",
      "Step 7: [1, 2, 3, 4, 5, 6, 7, 8]\n",
      "Compare count:  19\n",
      "Ordered elements:  [1, 2, 3, 4, 5, 6, 7, 8]\n"
     ]
    }
   ],
   "execution_count": 2
  },
  {
   "metadata": {},
   "cell_type": "code",
   "outputs": [],
   "execution_count": null,
   "source": "",
   "id": "a70d60f76e452df1"
  }
 ],
 "metadata": {
  "kernelspec": {
   "name": "python3",
   "language": "python",
   "display_name": "Python 3 (ipykernel)"
  }
 },
 "nbformat": 5,
 "nbformat_minor": 9
}

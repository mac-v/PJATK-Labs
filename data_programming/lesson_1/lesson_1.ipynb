{
 "cells": [
  {
   "cell_type": "markdown",
   "id": "6914906e-8822-4979-b600-c2b9e06782a5",
   "metadata": {},
   "source": [
    "# Lesson 1"
   ]
  },
  {
   "attachments": {},
   "cell_type": "markdown",
   "id": "3a87edd6-7487-4986-bf1c-b7d12ef6a764",
   "metadata": {},
   "source": [
    "![Description](description.png)"
   ]
  },
  {
   "cell_type": "markdown",
   "id": "4c9adca3-1a06-4be2-9544-b1ab289950e8",
   "metadata": {},
   "source": [
    "## Task 1"
   ]
  },
  {
   "cell_type": "code",
   "execution_count": 70,
   "id": "9da9471e-c78b-47db-a58e-b44a998bc8b1",
   "metadata": {},
   "outputs": [
    {
     "name": "stdout",
     "output_type": "stream",
     "text": [
      "Requirement already satisfied: ipytest in c:\\users\\krzyw\\appdata\\local\\programs\\python\\python311\\lib\\site-packages (from -r requirements.txt (line 1)) (0.14.2)\n",
      "Requirement already satisfied: pytest in c:\\users\\krzyw\\appdata\\local\\programs\\python\\python311\\lib\\site-packages (from -r requirements.txt (line 2)) (8.3.3)\n",
      "Requirement already satisfied: ipython in c:\\users\\krzyw\\appdata\\local\\programs\\python\\python311\\lib\\site-packages (from ipytest->-r requirements.txt (line 1)) (8.15.0)\n",
      "Requirement already satisfied: packaging in c:\\users\\krzyw\\appdata\\local\\programs\\python\\python311\\lib\\site-packages (from ipytest->-r requirements.txt (line 1)) (23.1)\n",
      "Requirement already satisfied: iniconfig in c:\\users\\krzyw\\appdata\\local\\programs\\python\\python311\\lib\\site-packages (from pytest->-r requirements.txt (line 2)) (2.0.0)\n",
      "Requirement already satisfied: pluggy<2,>=1.5 in c:\\users\\krzyw\\appdata\\local\\programs\\python\\python311\\lib\\site-packages (from pytest->-r requirements.txt (line 2)) (1.5.0)\n",
      "Requirement already satisfied: colorama in c:\\users\\krzyw\\appdata\\local\\programs\\python\\python311\\lib\\site-packages (from pytest->-r requirements.txt (line 2)) (0.4.6)\n",
      "Requirement already satisfied: backcall in c:\\users\\krzyw\\appdata\\local\\programs\\python\\python311\\lib\\site-packages (from ipython->ipytest->-r requirements.txt (line 1)) (0.2.0)\n",
      "Requirement already satisfied: decorator in c:\\users\\krzyw\\appdata\\local\\programs\\python\\python311\\lib\\site-packages (from ipython->ipytest->-r requirements.txt (line 1)) (5.1.1)\n",
      "Requirement already satisfied: jedi>=0.16 in c:\\users\\krzyw\\appdata\\local\\programs\\python\\python311\\lib\\site-packages (from ipython->ipytest->-r requirements.txt (line 1)) (0.19.0)\n",
      "Requirement already satisfied: matplotlib-inline in c:\\users\\krzyw\\appdata\\local\\programs\\python\\python311\\lib\\site-packages (from ipython->ipytest->-r requirements.txt (line 1)) (0.1.6)\n",
      "Requirement already satisfied: pickleshare in c:\\users\\krzyw\\appdata\\local\\programs\\python\\python311\\lib\\site-packages (from ipython->ipytest->-r requirements.txt (line 1)) (0.7.5)\n",
      "Requirement already satisfied: prompt-toolkit!=3.0.37,<3.1.0,>=3.0.30 in c:\\users\\krzyw\\appdata\\local\\programs\\python\\python311\\lib\\site-packages (from ipython->ipytest->-r requirements.txt (line 1)) (3.0.39)\n",
      "Requirement already satisfied: pygments>=2.4.0 in c:\\users\\krzyw\\appdata\\local\\programs\\python\\python311\\lib\\site-packages (from ipython->ipytest->-r requirements.txt (line 1)) (2.16.1)\n",
      "Requirement already satisfied: stack-data in c:\\users\\krzyw\\appdata\\local\\programs\\python\\python311\\lib\\site-packages (from ipython->ipytest->-r requirements.txt (line 1)) (0.6.2)\n",
      "Requirement already satisfied: traitlets>=5 in c:\\users\\krzyw\\appdata\\local\\programs\\python\\python311\\lib\\site-packages (from ipython->ipytest->-r requirements.txt (line 1)) (5.10.1)\n",
      "Requirement already satisfied: parso<0.9.0,>=0.8.3 in c:\\users\\krzyw\\appdata\\local\\programs\\python\\python311\\lib\\site-packages (from jedi>=0.16->ipython->ipytest->-r requirements.txt (line 1)) (0.8.3)\n",
      "Requirement already satisfied: wcwidth in c:\\users\\krzyw\\appdata\\local\\programs\\python\\python311\\lib\\site-packages (from prompt-toolkit!=3.0.37,<3.1.0,>=3.0.30->ipython->ipytest->-r requirements.txt (line 1)) (0.2.6)\n",
      "Requirement already satisfied: executing>=1.2.0 in c:\\users\\krzyw\\appdata\\local\\programs\\python\\python311\\lib\\site-packages (from stack-data->ipython->ipytest->-r requirements.txt (line 1)) (1.2.0)\n",
      "Requirement already satisfied: asttokens>=2.1.0 in c:\\users\\krzyw\\appdata\\local\\programs\\python\\python311\\lib\\site-packages (from stack-data->ipython->ipytest->-r requirements.txt (line 1)) (2.4.0)\n",
      "Requirement already satisfied: pure-eval in c:\\users\\krzyw\\appdata\\local\\programs\\python\\python311\\lib\\site-packages (from stack-data->ipython->ipytest->-r requirements.txt (line 1)) (0.2.2)\n",
      "Requirement already satisfied: six>=1.12.0 in c:\\users\\krzyw\\appdata\\local\\programs\\python\\python311\\lib\\site-packages (from asttokens>=2.1.0->stack-data->ipython->ipytest->-r requirements.txt (line 1)) (1.16.0)\n"
     ]
    },
    {
     "name": "stderr",
     "output_type": "stream",
     "text": [
      "\n",
      "[notice] A new release of pip is available: 24.0 -> 24.2\n",
      "[notice] To update, run: python.exe -m pip install --upgrade pip\n"
     ]
    }
   ],
   "source": [
    "!pip install -r requirements.txt"
   ]
  },
  {
   "cell_type": "code",
   "execution_count": 61,
   "id": "73ab2440-a0a6-4f3c-85b0-4dfa061230df",
   "metadata": {},
   "outputs": [],
   "source": [
    "import pytest\n",
    "import ipytest\n",
    "## ipytest makes tests work in jupyternotebook\n",
    "ipytest.autoconfig()\n",
    "from typing import Union\n"
   ]
  },
  {
   "cell_type": "code",
   "execution_count": 62,
   "id": "47d2b916-3476-4752-8746-110eb9a9cc1f",
   "metadata": {},
   "outputs": [
    {
     "name": "stdout",
     "output_type": "stream",
     "text": [
      "\u001b[32m.\u001b[0m\u001b[32m.\u001b[0m\u001b[32m.\u001b[0m\u001b[32m                                                                                          [100%]\u001b[0m\n",
      "\u001b[32m\u001b[32m\u001b[1m3 passed\u001b[0m\u001b[32m in 0.03s\u001b[0m\u001b[0m\n"
     ]
    },
    {
     "data": {
      "text/plain": [
       "<ExitCode.OK: 0>"
      ]
     },
     "execution_count": 62,
     "metadata": {},
     "output_type": "execute_result"
    }
   ],
   "source": [
    "def calculate_bmi(weight: Union[int, float], height: Union[int, float] ) -> float:\n",
    "    \"\"\"Calcualate BMI (Body Mass Index).\n",
    "\n",
    "    Args:\n",
    "    weight (Union[float, int]) -- weight in kilograms\n",
    "    height (Union[float, int]) -- height in meters\n",
    "    \n",
    "    Raises:\n",
    "    ValueError: If weight or height is not a positive number\n",
    "    TypeError: If weight or height is not int or float\n",
    "    \"\"\"\n",
    "\n",
    "    if not isinstance(weight, (int,float)) or not isinstance(height, (int,float)):\n",
    "        raise TypeError(\"Weight and height must be int or float\")\n",
    "    if weight <=0 or height <=0:\n",
    "        raise ValueError(\"Weight and height must be positive numbers\")\n",
    "    \n",
    "    return round(weight / (height ** 2), 2)\n",
    "\n",
    "\n",
    "def test_bmi_calculation():\n",
    "    assert calculate_bmi(87.5, 1.75) == 28.57\n",
    "    assert calculate_bmi(25, 1) == 25.0\n",
    "\n",
    "def test_invalid_values():\n",
    "    with pytest.raises(ValueError, match=\"Weight and height must be positive numbers\"):\n",
    "        calculate_bmi(0, 1.75)\n",
    "        \n",
    "    with pytest.raises(ValueError, match=\"Weight and height must be positive numbers\"):\n",
    "        calculate_bmi(-5, 1.75)\n",
    "\n",
    "    with pytest.raises(ValueError, match=\"Weight and height must be positive numbers\"):\n",
    "        calculate_bmi(70, 0)\n",
    "        \n",
    "    with pytest.raises(ValueError, match=\"Weight and height must be positive numbers\"):\n",
    "        calculate_bmi(70, -1.75)\n",
    "\n",
    "def test_invalid_types():\n",
    "    for invalid_value in [\"a\", [], {}, None]:\n",
    "        with pytest.raises(TypeError, match=\"Weight and height must be int or float\"):\n",
    "            calculate_bmi(invalid_value, 2)\n",
    "\n",
    "    for invalid_value in [\"b\", [], {}, None]:\n",
    "        with pytest.raises(TypeError, match=\"Weight and height must be int or float\"):\n",
    "            calculate_bmi(70, invalid_value)\n",
    "\n",
    "ipytest.run()"
   ]
  },
  {
   "cell_type": "markdown",
   "id": "9f52025c-7d71-4f48-bd59-24c421ed5bdd",
   "metadata": {},
   "source": [
    "## Task 2"
   ]
  },
  {
   "cell_type": "code",
   "execution_count": 63,
   "id": "92d4e308-03e9-4097-a2aa-3b3a63ad785d",
   "metadata": {},
   "outputs": [],
   "source": [
    "class Book():\n",
    "    def __init__(self, title: str, author: str, pages: int):\n",
    "        self.title = title\n",
    "        self.author = author\n",
    "        self.pages = pages\n",
    "\n",
    "    @property\n",
    "    def title(self):\n",
    "        return self._title\n",
    "\n",
    "    @property\n",
    "    def author(self):\n",
    "        return self._author\n",
    "\n",
    "    @property\n",
    "    def pages(self):\n",
    "        return self._pages\n",
    "        \n",
    "    @title.setter\n",
    "    def title(self, title: str):\n",
    "        if not isinstance(title,str):\n",
    "            raise TypeError(\"Atribute title must be type of str\") \n",
    "        if len(title.strip()) == 0:\n",
    "            raise ValueError(\"Attribte title must be non empty str\")\n",
    "        self._title = title\n",
    "    @author.setter\n",
    "    def author(self, author: str):\n",
    "        if not isinstance(author,str):\n",
    "            raise TypeError(\"Atribute author must be type of str\") \n",
    "        if len(author.strip()) == 0:\n",
    "            raise ValueError(\"Attribute author must be non blank str\")\n",
    "        self._author = author\n",
    "    @pages.setter\n",
    "    def pages(self, pages: int):\n",
    "        if not isinstance(pages,int):\n",
    "            raise TypeError(\"Atribute pages must be type of int\") \n",
    "        if pages <= 0:\n",
    "            raise ValueError(\"Attribute pages must be positive\")\n",
    "        self._pages = pages\n",
    "    def get_reading_time(self) -> int:\n",
    "        \"\"\"Return reading time in minutes.\"\"\"\n",
    "        return self.pages*2\n",
    "        \n",
    "    def is_lengthy(self) -> bool:\n",
    "        \"\"\"Check whether book has more than 300 pages and therefore is lengthy.\"\"\"\n",
    "        return self.pages > 300\n",
    "\n",
    "\n"
   ]
  },
  {
   "cell_type": "markdown",
   "id": "ec98eeed-21b8-4ec7-915b-40121378f139",
   "metadata": {},
   "source": [
    "## Task 3"
   ]
  },
  {
   "cell_type": "code",
   "execution_count": 64,
   "id": "5e4b319c-94d9-4199-a703-b1a14b530ee9",
   "metadata": {},
   "outputs": [],
   "source": [
    "class Vehicle():\n",
    "    pass  \n",
    "\n",
    "class Car(Vehicle):\n",
    "    pass\n",
    "\n",
    "class Motorcycle(Vehicle):\n",
    "    pass\n",
    "\n",
    "class Bicycle(Vehicle):\n",
    "    pass\n",
    "\n",
    "class ElectricVehicle(Vehicle):\n",
    "    pass\n",
    "    \n"
   ]
  },
  {
   "cell_type": "markdown",
   "id": "60cd1e2d-8002-45e9-ac0a-9eeccfa94b53",
   "metadata": {},
   "source": [
    "## Task 4"
   ]
  },
  {
   "cell_type": "code",
   "execution_count": 67,
   "id": "a48a24a3-f8f0-459c-b27d-9bee87cf1f19",
   "metadata": {},
   "outputs": [
    {
     "name": "stdin",
     "output_type": "stream",
     "text": [
      "Enter one boundary of the range:  20\n",
      "Enter the other boundary of the range:  3\n"
     ]
    },
    {
     "data": {
      "text/plain": [
       "[16, 36, 64, 100, 144, 196, 256, 324, 400]"
      ]
     },
     "execution_count": 67,
     "metadata": {},
     "output_type": "execute_result"
    }
   ],
   "source": [
    "boundary1 = int(input(\"Enter one boundary of the range: \"))\n",
    "boundary2 = int(input(\"Enter the other boundary of the range: \"))\n",
    "\n",
    "lower_limit = min(boundary1, boundary2)\n",
    "upper_limit = max(boundary1, boundary2)\n",
    "\n",
    "## upper_limit + 1 because range() cut the last element\n",
    "squares_of_even_numbers = [x**2 for x in range(lower_limit, upper_limit + 1) if x % 2 == 0]\n",
    "squares_of_even_numbers"
   ]
  },
  {
   "cell_type": "markdown",
   "id": "c563df5d-ddbd-4cf0-989e-407c48c6accf",
   "metadata": {},
   "source": [
    "### Task 5"
   ]
  },
  {
   "cell_type": "code",
   "execution_count": 68,
   "id": "9a66b4ee-cf5b-482b-9282-c84701a9ca6d",
   "metadata": {},
   "outputs": [
    {
     "data": {
      "text/plain": [
       "[{'name': 'Apple',\n",
       "  'price': 0.5,\n",
       "  'category': 'Fruit',\n",
       "  'in_stock': True,\n",
       "  'weight': 0.2,\n",
       "  'expiry_date': '2023-10-15',\n",
       "  'is_organic': True},\n",
       " {'name': 'Bread',\n",
       "  'price': 2.0,\n",
       "  'category': 'Bakery',\n",
       "  'in_stock': True,\n",
       "  'weight': 0.5,\n",
       "  'expiry_date': '2023-09-30',\n",
       "  'is_organic': False},\n",
       " {'name': 'Milk',\n",
       "  'price': 1.5,\n",
       "  'category': 'Dairy',\n",
       "  'in_stock': True,\n",
       "  'weight': 1.0,\n",
       "  'expiry_date': '2023-09-25',\n",
       "  'is_organic': False},\n",
       " {'name': 'Carrot',\n",
       "  'price': 0.3,\n",
       "  'category': 'Vegetable',\n",
       "  'in_stock': True,\n",
       "  'weight': 0.1,\n",
       "  'expiry_date': '2023-10-10',\n",
       "  'is_organic': True},\n",
       " {'name': 'Chicken',\n",
       "  'price': 5.0,\n",
       "  'category': 'Meat',\n",
       "  'in_stock': False,\n",
       "  'weight': 1.5,\n",
       "  'expiry_date': '2023-09-28',\n",
       "  'is_organic': False}]"
      ]
     },
     "execution_count": 68,
     "metadata": {},
     "output_type": "execute_result"
    }
   ],
   "source": [
    "products = [\n",
    "    {\n",
    "        \"name\": \"Apple\",\n",
    "        \"price\": 0.5,\n",
    "        \"category\": \"Fruit\",\n",
    "        \"in_stock\": True,\n",
    "        \"weight\": 0.2,\n",
    "        \"expiry_date\": \"2023-10-15\",\n",
    "        \"is_organic\": True\n",
    "    },\n",
    "    {\n",
    "        \"name\": \"Bread\",\n",
    "        \"price\": 2.0,\n",
    "        \"category\": \"Bakery\",\n",
    "        \"in_stock\": True,\n",
    "        \"weight\": 0.5,\n",
    "        \"expiry_date\": \"2023-09-30\",\n",
    "        \"is_organic\": False\n",
    "    },\n",
    "    {\n",
    "        \"name\": \"Milk\",\n",
    "        \"price\": 1.5,\n",
    "        \"category\": \"Dairy\",\n",
    "        \"in_stock\": True,\n",
    "        \"weight\": 1.0,\n",
    "        \"expiry_date\": \"2023-09-25\",\n",
    "        \"is_organic\": False\n",
    "    },\n",
    "    {\n",
    "        \"name\": \"Carrot\",\n",
    "        \"price\": 0.3,\n",
    "        \"category\": \"Vegetable\",\n",
    "        \"in_stock\": True,\n",
    "        \"weight\": 0.1,\n",
    "        \"expiry_date\": \"2023-10-10\",\n",
    "        \"is_organic\": True\n",
    "    },\n",
    "    {\n",
    "        \"name\": \"Chicken\",\n",
    "        \"price\": 5.0,\n",
    "        \"category\": \"Meat\",\n",
    "        \"in_stock\": False,\n",
    "        \"weight\": 1.5,\n",
    "        \"expiry_date\": \"2023-09-28\",\n",
    "        \"is_organic\": False\n",
    "    }\n",
    "]\n",
    "products\n"
   ]
  },
  {
   "cell_type": "markdown",
   "id": "0d0fcc8c-9a0a-4f78-ae45-e1aa89bfeab6",
   "metadata": {},
   "source": [
    "## Task 6"
   ]
  },
  {
   "cell_type": "code",
   "execution_count": 69,
   "id": "8a52e5f8-42f0-4901-b8a4-18ce262d729a",
   "metadata": {},
   "outputs": [
    {
     "name": "stdout",
     "output_type": "stream",
     "text": [
      "The product Apple costs 0.5$ and is in stock. It is organic.\n"
     ]
    }
   ],
   "source": [
    "def product_info(product: dict) -> str:\n",
    "    is_organic_text = 'is' if product['is_organic'] else 'is not'\n",
    "    in_stock_text = 'in stock' if product['in_stock'] else 'out of stock'\n",
    "    return f\"The product {product['name']} costs {product['price']}$ and is {in_stock_text}. It {is_organic_text} organic.\"\n",
    "\n",
    "p = product_info(products[0])\n",
    "print(p)    "
   ]
  },
  {
   "cell_type": "code",
   "execution_count": null,
   "id": "dbb8ff32-866f-4028-94e7-c9409edf3b74",
   "metadata": {},
   "outputs": [],
   "source": []
  },
  {
   "cell_type": "code",
   "execution_count": null,
   "id": "78c5427c-51db-42b8-bd0b-690c71848fb6",
   "metadata": {},
   "outputs": [],
   "source": []
  }
 ],
 "metadata": {
  "kernelspec": {
   "display_name": "Python 3 (ipykernel)",
   "language": "python",
   "name": "python3"
  },
  "language_info": {
   "codemirror_mode": {
    "name": "ipython",
    "version": 3
   },
   "file_extension": ".py",
   "mimetype": "text/x-python",
   "name": "python",
   "nbconvert_exporter": "python",
   "pygments_lexer": "ipython3",
   "version": "3.11.5"
  }
 },
 "nbformat": 4,
 "nbformat_minor": 5
}

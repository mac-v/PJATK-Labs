{
 "cells": [
  {
   "metadata": {},
   "cell_type": "raw",
   "source": [
    "\n",
    "\n",
    "\n"
   ],
   "id": "5ed5dd3333a170bb"
  },
  {
   "metadata": {},
   "cell_type": "markdown",
   "source": "# Partially correct algorithm\n",
   "id": "fea1f5d5b2ac5b28"
  },
  {
   "metadata": {
    "ExecuteTime": {
     "end_time": "2025-01-05T12:56:07.372153Z",
     "start_time": "2025-01-05T12:55:55.859140Z"
    }
   },
   "cell_type": "code",
   "source": [
    "def sum(array, len):\n",
    "    sum = 0\n",
    "    i = 0\n",
    "    while i < len:\n",
    "        sum += array[i]\n",
    "    return sum\n",
    "\n",
    "empty_array = []\n",
    "non_empty_array = [1, 2, 3, 4, 5]\n",
    "\n",
    "result_empty_array = sum(empty_array, len(empty_array))\n",
    "result_non_empty_array = sum(non_empty_array, len(non_empty_array))\n",
    "print(result_empty_array)\n",
    "print(result_non_empty_array)\n"
   ],
   "id": "f6ab115dcdbfe741",
   "outputs": [
    {
     "ename": "KeyboardInterrupt",
     "evalue": "",
     "output_type": "error",
     "traceback": [
      "\u001B[0;31m---------------------------------------------------------------------------\u001B[0m",
      "\u001B[0;31mKeyboardInterrupt\u001B[0m                         Traceback (most recent call last)",
      "Cell \u001B[0;32mIn[3], line 12\u001B[0m\n\u001B[1;32m      9\u001B[0m non_empty_array \u001B[38;5;241m=\u001B[39m [\u001B[38;5;241m1\u001B[39m, \u001B[38;5;241m2\u001B[39m, \u001B[38;5;241m3\u001B[39m, \u001B[38;5;241m4\u001B[39m, \u001B[38;5;241m5\u001B[39m]\n\u001B[1;32m     11\u001B[0m result_empty_array \u001B[38;5;241m=\u001B[39m \u001B[38;5;28msum\u001B[39m(empty_array, \u001B[38;5;28mlen\u001B[39m(empty_array))\n\u001B[0;32m---> 12\u001B[0m result_non_empty_array \u001B[38;5;241m=\u001B[39m \u001B[38;5;28;43msum\u001B[39;49m\u001B[43m(\u001B[49m\u001B[43mnon_empty_array\u001B[49m\u001B[43m,\u001B[49m\u001B[43m \u001B[49m\u001B[38;5;28;43mlen\u001B[39;49m\u001B[43m(\u001B[49m\u001B[43mnon_empty_array\u001B[49m\u001B[43m)\u001B[49m\u001B[43m)\u001B[49m\n\u001B[1;32m     13\u001B[0m \u001B[38;5;28mprint\u001B[39m(result_empty_array)\n\u001B[1;32m     14\u001B[0m \u001B[38;5;28mprint\u001B[39m(result_non_empty_array)\n",
      "Cell \u001B[0;32mIn[3], line 4\u001B[0m, in \u001B[0;36msum\u001B[0;34m(array, len)\u001B[0m\n\u001B[1;32m      2\u001B[0m \u001B[38;5;28msum\u001B[39m \u001B[38;5;241m=\u001B[39m \u001B[38;5;241m0\u001B[39m\n\u001B[1;32m      3\u001B[0m i \u001B[38;5;241m=\u001B[39m \u001B[38;5;241m0\u001B[39m\n\u001B[0;32m----> 4\u001B[0m \u001B[38;5;28;01mwhile\u001B[39;00m i \u001B[38;5;241m<\u001B[39m \u001B[38;5;28mlen\u001B[39m:\n\u001B[1;32m      5\u001B[0m     \u001B[38;5;28msum\u001B[39m \u001B[38;5;241m+\u001B[39m\u001B[38;5;241m=\u001B[39m array[i]\n\u001B[1;32m      6\u001B[0m \u001B[38;5;28;01mreturn\u001B[39;00m \u001B[38;5;28msum\u001B[39m\n",
      "\u001B[0;31mKeyboardInterrupt\u001B[0m: "
     ]
    }
   ],
   "execution_count": 3
  },
  {
   "metadata": {},
   "cell_type": "markdown",
   "source": "# Correct alogrithm",
   "id": "7dcf07561cc1da58"
  },
  {
   "metadata": {
    "ExecuteTime": {
     "end_time": "2025-01-05T16:18:10.956420Z",
     "start_time": "2025-01-05T16:18:10.950435Z"
    }
   },
   "cell_type": "code",
   "source": [
    "def max(array, len):\n",
    "    i = 1\n",
    "    max = array[0]\n",
    "    while i < len:\n",
    "        if array[i] > max:\n",
    "            max = array[i]\n",
    "        i=i+1\n",
    "    return max\n",
    "\n",
    "array = [1, 2, 3, 4, 5]\n",
    "result = max(array, len(array))\n",
    "print(result)"
   ],
   "id": "347ad218c4949f32",
   "outputs": [
    {
     "name": "stdout",
     "output_type": "stream",
     "text": [
      "5\n"
     ]
    }
   ],
   "execution_count": 6
  },
  {
   "metadata": {},
   "cell_type": "markdown",
   "source": [
    "### **How to Verify the Correctness of an Algorithm**\n",
    "#### **Step 1: Prove the Stop Property**\n",
    "- The algorithm will stop when the condition `i >= len` is satisfied.\n",
    "- `len` is a constant and finite value.\n",
    "- The variable `i` grows consistently by a constant value (e.g., 1 in each iteration).\n",
    "\n",
    "#### **Step 2: Prove Partial Correctness with Loop Invariant**\n",
    "- Define a _predicate_ :\n",
    "    - A predicate that encapsulates the final condition of the algorithm.\n",
    "    - **Predicate:** \"X is not less than any number in the array, and X is in the array.\"\n",
    "\n",
    "- Turn this predicate into a form that:\n",
    "    - Includes the critical variables influencing the result.\n",
    "    - Represents the current value (in the current iteration) of the variable returned by the algorithm.\n",
    "    - Satisfies the definition of a loop invariant (i.e., the predicate is true before the loop starts, remains true during each iteration, and is still true after the loop ends).\n",
    "\n"
   ],
   "id": "8a47bc800c33789"
  },
  {
   "metadata": {},
   "cell_type": "code",
   "outputs": [],
   "execution_count": null,
   "source": "",
   "id": "c1b9ec9d755edb0b"
  },
  {
   "metadata": {},
   "cell_type": "code",
   "outputs": [],
   "execution_count": null,
   "source": "",
   "id": "3f561566681ba629"
  }
 ],
 "metadata": {
  "kernelspec": {
   "name": "python3",
   "language": "python",
   "display_name": "Python 3 (ipykernel)"
  }
 },
 "nbformat": 5,
 "nbformat_minor": 9
}

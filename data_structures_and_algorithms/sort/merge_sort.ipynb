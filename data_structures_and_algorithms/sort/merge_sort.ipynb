{
 "cells": [
  {
   "metadata": {},
   "cell_type": "markdown",
   "source": [
    "# Merge sort\n",
    "* divide and conquer"
   ],
   "id": "b71e41f2c74df28c"
  },
  {
   "metadata": {
    "ExecuteTime": {
     "end_time": "2025-01-18T14:36:39.299319Z",
     "start_time": "2025-01-18T14:36:39.294093Z"
    }
   },
   "cell_type": "code",
   "source": [
    "def merge_sort(elements):\n",
    "    if len(elements) <= 1:\n",
    "        return elements\n",
    "\n",
    "    mid = len(elements) // 2\n",
    "    left = elements[:mid]\n",
    "    right = elements[mid:]\n",
    "\n",
    "    sorted_left = merge_sort(left)\n",
    "    sorted_right = merge_sort(right)\n",
    "\n",
    "    return merge(sorted_left, sorted_right)\n",
    "\n",
    "\n",
    "def merge(left, right):\n",
    "    res = []\n",
    "    left_index, right_index = 0, 0\n",
    "    for index in range(len(left) + len(right)):\n",
    "        if right_index == len(right):\n",
    "            res.extend(left[left_index:])\n",
    "            return res\n",
    "        if left_index == len(left):\n",
    "            res.extend(right[right_index:])\n",
    "            return res\n",
    "        if left[left_index] <= right[right_index]:\n",
    "            res.append(left[left_index])\n",
    "            left_index += 1\n",
    "        else:\n",
    "            res.append(right[right_index])\n",
    "            right_index += 1\n",
    "\n",
    "    return res\n",
    "\n",
    "\n",
    "elements = [43, 1, 3, 4, 2, 7, 9, 8]\n",
    "\n",
    "print(merge_sort(elements))\n"
   ],
   "id": "553245e7b5306867",
   "outputs": [
    {
     "name": "stdout",
     "output_type": "stream",
     "text": [
      "[1, 2, 3, 4, 7, 8, 9, 43]\n"
     ]
    }
   ],
   "execution_count": 54
  }
 ],
 "metadata": {
  "kernelspec": {
   "name": "python3",
   "language": "python",
   "display_name": "Python 3 (ipykernel)"
  }
 },
 "nbformat": 5,
 "nbformat_minor": 9
}

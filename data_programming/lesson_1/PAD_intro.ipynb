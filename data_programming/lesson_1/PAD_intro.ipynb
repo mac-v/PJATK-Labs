{
 "cells": [
  {
   "cell_type": "markdown",
   "metadata": {},
   "source": [
    "# Python Programming Basics\n",
    "This Jupyter notebook introduces the foundational concepts of Python programming, \n",
    "aimed at helping you get started with Python for data analytics and general-purpose programming."
   ]
  },
  {
   "cell_type": "markdown",
   "metadata": {},
   "source": [
    "# Import necessary libraries\n",
    "import math\n",
    "\n",
    "# Section 1: Introduction to Python\n",
    "\n",
    "\n",
    "\"\"\"\n",
    "# Lecture 1: Introduction to Python for Data Analytics\n",
    "\n",
    "**Instructor:** Serhii Krasnoiarskyi | 03/2024\n",
    "\n",
    "## Topics Covered\n",
    "1. Python – Historical Background and Introduction\n",
    "2. Setting up a Python Environment\n",
    "3. Key Features of Python\n",
    "4. Syntax Basics: \n",
    "    - Command Line\n",
    "    - Shell\n",
    "    - Scripts\n",
    "5. Variables and Data Types\n",
    "6. Collections in Python\n",
    "7. Control Flow Statements\n",
    "8. Functions, Classes, and Objects\n",
    "\"\"\"\n",
    "\n",
    "# Section 2: Historical Background and Overview of Python\n",
    "\n",
    "\n",
    "\"\"\"\n",
    "### 2.1 Python: A Brief Historical Overview\n",
    "\n",
    "- Python is a general-purpose, high-level programming language created by **Guido van Rossum** in 1991 as a successor to the ABC language.\n",
    "- Its main goal is to be simple and human-readable, emphasizing **code readability** and allowing programmers to express concepts with fewer lines of code.\n",
    "\n",
    "### 2.2 Key Programming Paradigms Supported by Python\n",
    "Python supports multiple programming paradigms:\n",
    "- Object-Oriented Programming (OOP)\n",
    "- Procedural Programming\n",
    "- Functional Programming\n",
    "\n",
    "### 2.3 Differences with Other Languages\n",
    "- **Dynamic Typing**: Variables are dynamically typed, unlike Java and C/C++.\n",
    "- **Interpreted Language**: Python is interpreted, meaning code is executed line-by-line by the interpreter.\n",
    "- **Everything is an object** in Python, even primitive types like integers and strings.\n",
    "\"\"\"\n",
    "\n",
    "# Section 3: Setting Up the Python Environment\n",
    "\n",
    "\n",
    "\"\"\"\n",
    "### 3.1 Setting Up Python Environment\n",
    "To set up Python on your machine, you can follow these steps:\n",
    "\n",
    "1. **Install Python**: Download the latest Python 3.x version from the official website.\n",
    "2. **Command Line Interface**: After installation, access the Python interpreter using:\n",
    "   - On **Windows**: Open Command Prompt and type `python`\n",
    "   - On **Linux/MacOS**: Open a terminal and type `python3`\n",
    "   \n",
    "3. **Using Python IDLE**: IDLE is the default editor that comes with Python. It highlights syntax and is useful for small scripts.\n",
    "\n",
    "4. **Installing Additional IDEs**:\n",
    "   - **PyCharm**: A popular IDE for Python development.\n",
    "   - **Jupyter Notebook**: Highly recommended for data analysis and interactive Python sessions.\n",
    "\"\"\"\n",
    "\n",
    "# Section 4: Python Syntax Basics\n",
    "\n",
    "\n",
    "\"\"\"\n",
    "### 4.1 Case Sensitivity and Indentation\n",
    "- Python is **case-sensitive**, meaning `Variable` and `variable` are different.\n",
    "- **Indentation** is used to define code blocks, replacing braces `{}` seen in languages like Java or C++.\n",
    "\n",
    "### 4.2 Comments in Python\n",
    "- Single-line comments use `#`.\n",
    "- Multi-line comments are enclosed in triple quotes `'''` or `\"\"\"`.\n",
    "\"\"\"\n",
    "\n",
    "# Example of Comments and Indentation in Python\n",
    "\n",
    "def example_function():\n",
    "    # This is a comment explaining the function\n",
    "    print(\"This is a properly indented Python function\")\n",
    "\n",
    "example_function()\n",
    "\n",
    "# Section 5: Variables and Data Types\n",
    "\n",
    "\n",
    "\"\"\"\n",
    "### 5.1 Declaring Variables\n",
    "In Python, variables are created by simply assigning a value using `=`. Python dynamically assigns the type based on the value.\n",
    "\n",
    "### 5.2 Data Types in Python\n",
    "- **int**: Integer (e.g., `42`)\n",
    "- **float**: Floating point number (e.g., `3.14`)\n",
    "- **bool**: Boolean (e.g., `True` or `False`)\n",
    "- **complex**: Complex numbers (e.g., `1 + 2j`)\n",
    "\"\"\"\n",
    "\n",
    "# Example of Variables and Data Types\n",
    "\n",
    "x = 42         # Integer\n",
    "y = 3.14       # Float\n",
    "z = True       # Boolean\n",
    "c = 1 + 2j     # Complex number\n",
    "\n",
    "print(\"x:\", x, \"is of type\", type(x))\n",
    "print(\"y:\", y, \"is of type\", type(y))\n",
    "print(\"z:\", z, \"is of type\", type(z))\n",
    "print(\"c:\", c, \"is of type\", type(c))\n",
    "\n",
    "# Section 6: Collections (Lists, Tuples, Sets, Dictionaries)\n",
    "\n",
    "\n",
    "\"\"\"\n",
    "### 6.1 Lists\n",
    "- A list is an ordered, mutable collection of elements.\n",
    "- Lists are defined using square brackets `[]`.\n",
    "\n",
    "### 6.2 Tuples\n",
    "- A tuple is like a list but is **immutable**.\n",
    "- Tuples are defined using parentheses `()`.\n",
    "\n",
    "### 6.3 Sets\n",
    "- A set is an **unordered** collection of unique elements.\n",
    "\n",
    "### 6.4 Dictionaries\n",
    "- A dictionary stores key-value pairs, like a JSON object, and is defined using curly braces `{}`.\n",
    "\"\"\"\n",
    "\n",
    "# Examples of Lists, Tuples, Sets, and Dictionaries\n",
    "\n",
    "# List\n",
    "fruits = [\"apple\", \"banana\", \"cherry\"]\n",
    "print(\"List:\", fruits)\n",
    "\n",
    "# Tuple\n",
    "coordinates = (10.5, 20.7)\n",
    "print(\"Tuple:\", coordinates)\n",
    "\n",
    "# Set\n",
    "unique_numbers = {1, 2, 3, 3, 2}\n",
    "print(\"Set:\", unique_numbers)\n",
    "\n",
    "# Dictionary\n",
    "student_info = {\"name\": \"John\", \"age\": 21}\n",
    "print(\"Dictionary:\", student_info)\n",
    "\n",
    "# Section 7: Control Flow Statements\n",
    "\n",
    "\n",
    "\"\"\"\n",
    "### 7.1 Conditional Statements (if, elif, else)\n",
    "Conditional statements in Python follow this structure:\n"
   ]
  },
  {
   "cell_type": "code",
   "execution_count": null,
   "metadata": {},
   "outputs": [],
   "source": [
    "\n",
    "if condition:\n",
    "    # Code to execute if condition is True\n",
    "elif another_condition:\n",
    "    # Code to execute if the second condition is True\n",
    "else:\n",
    "    # Code to execute if none of the conditions are True\n"
   ]
  },
  {
   "cell_type": "markdown",
   "metadata": {},
   "source": [
    "## Section 7: Control Flow Statements\n",
    "Control flow statements in Python allow you to dictate how your code is executed based on conditions or loops. \n",
    "The most common control flow structures are `if` statements, `for` loops, and `while` loops."
   ]
  },
  {
   "cell_type": "markdown",
   "metadata": {},
   "source": [
    "### 7.2 For Loop\n",
    "A `for` loop is used for iterating over a sequence (like a list, tuple, dictionary, set, or string)."
   ]
  },
  {
   "cell_type": "code",
   "execution_count": 1,
   "metadata": {},
   "outputs": [],
   "source": [
    "fruits = [\"apple\", \"banana\", \"cherry\"]\n",
    "for fruit in fruits:\n",
    "    print(fruit)"
   ]
  },
  {
   "cell_type": "markdown",
   "metadata": {},
   "source": [
    "### 7.3 While Loop\n",
    "A `while` loop is used to repeatedly execute a block of code as long as a condition remains `True`."
   ]
  },
  {
   "cell_type": "code",
   "execution_count": 1,
   "metadata": {},
   "outputs": [],
   "source": [
    "count = 0\n",
    "while count < 5:\n",
    "    print(\"Count is:\", count)\n",
    "    count += 1"
   ]
  },
  {
   "cell_type": "markdown",
   "metadata": {},
   "source": [
    "## Section 8: Functions\n",
    "Functions in Python are blocks of reusable code that perform a specific task."
   ]
  },
  {
   "cell_type": "markdown",
   "metadata": {},
   "source": [
    "### 8.1 Defining Functions\n",
    "Functions are defined using the `def` keyword, and they can return values using the `return` statement."
   ]
  },
  {
   "cell_type": "code",
   "execution_count": 1,
   "metadata": {},
   "outputs": [],
   "source": [
    "def square(number):\n",
    "    return number * number\n",
    "\n",
    "result = square(4)\n",
    "print(\"Square of 4 is:\", result)"
   ]
  },
  {
   "cell_type": "markdown",
   "metadata": {},
   "source": [
    "### 8.2 Function Arguments\n",
    "Functions can take multiple arguments, with optional default values."
   ]
  },
  {
   "cell_type": "code",
   "execution_count": 1,
   "metadata": {},
   "outputs": [],
   "source": [
    "def greet_person(name, age=30):\n",
    "    print(f\"Hello, {name}. You are {age} years old.\")\n",
    "\n",
    "greet_person(\"Alice\")\n",
    "greet_person(\"Bob\", 25)"
   ]
  },
  {
   "cell_type": "markdown",
   "metadata": {},
   "source": [
    "### 8.3 Returning Multiple Values from a Function\n",
    "A function can return multiple values as a tuple."
   ]
  },
  {
   "cell_type": "code",
   "execution_count": 1,
   "metadata": {},
   "outputs": [],
   "source": [
    "def get_person_info():\n",
    "    name = \"John\"\n",
    "    age = 28\n",
    "    return name, age\n",
    "\n",
    "person_name, person_age = get_person_info()\n",
    "print(f\"Name: {person_name}, Age: {person_age}\")"
   ]
  },
  {
   "cell_type": "markdown",
   "metadata": {},
   "source": [
    "## Section 9: Classes and Objects (OOP in Python)\n",
    "Python supports object-oriented programming, allowing for the creation of **classes** and **objects**."
   ]
  },
  {
   "cell_type": "markdown",
   "metadata": {},
   "source": [
    "### 9.1 Defining a Class\n",
    "A class is defined using the `class` keyword. The `__init__` method is the class constructor, and the `self` keyword refers to the instance of the class."
   ]
  },
  {
   "cell_type": "code",
   "execution_count": 1,
   "metadata": {},
   "outputs": [],
   "source": [
    "class Dog:\n",
    "    def __init__(self, name, breed):\n",
    "        self.name = name\n",
    "        self.breed = breed\n",
    "\n",
    "    def bark(self):\n",
    "        print(f\"{self.name} is barking!\")\n",
    "\n",
    "my_dog = Dog(\"Buddy\", \"Golden Retriever\")\n",
    "my_dog.bark()"
   ]
  },
  {
   "cell_type": "markdown",
   "metadata": {},
   "source": [
    "### 9.2 Inheritance\n",
    "A class can inherit methods and properties from another class using the following syntax: `class DerivedClass(BaseClass):`"
   ]
  },
  {
   "cell_type": "code",
   "execution_count": 1,
   "metadata": {},
   "outputs": [],
   "source": [
    "class Animal:\n",
    "    def __init__(self, name):\n",
    "        self.name = name\n",
    "\n",
    "    def make_sound(self):\n",
    "        print(f\"{self.name} is making a sound.\")\n",
    "\n",
    "class Cat(Animal):\n",
    "    def make_sound(self):\n",
    "        print(f\"{self.name} says meow.\")\n",
    "\n",
    "my_cat = Cat(\"Whiskers\")\n",
    "my_cat.make_sound()"
   ]
  },
  {
   "cell_type": "markdown",
   "metadata": {},
   "source": [
    "## Section 10: Exception Handling\n",
    "Exceptions in Python can be caught and handled using `try`, `except`, and `finally` blocks."
   ]
  },
  {
   "cell_type": "code",
   "execution_count": 1,
   "metadata": {},
   "outputs": [],
   "source": [
    "try:\n",
    "    num = int(input(\"Enter a number: \"))\n",
    "    print(f\"You entered: {num}\")\n",
    "except ValueError:\n",
    "    print(\"That's not a valid number.\")\n",
    "finally:\n",
    "    print(\"Execution complete.\")"
   ]
  },
  {
   "cell_type": "markdown",
   "metadata": {},
   "source": [
    "## Section 11: File Handling\n",
    "Python allows you to read from and write to files."
   ]
  },
  {
   "cell_type": "code",
   "execution_count": 1,
   "metadata": {},
   "outputs": [],
   "source": [
    "# Writing to a file\n",
    "with open(\"example.txt\", \"w\") as file:\n",
    "    file.write(\"Hello, world!\")\n",
    "\n",
    "# Reading from a file\n",
    "with open(\"example.txt\", \"r\") as file:\n",
    "    content = file.read()\n",
    "    print(\"File content:\", content)"
   ]
  },
  {
   "cell_type": "markdown",
   "metadata": {},
   "source": [
    "## Section 12: Working with Libraries\n",
    "Python provides a variety of built-in and external libraries for various tasks."
   ]
  },
  {
   "cell_type": "markdown",
   "metadata": {},
   "source": [
    "### 12.1 Importing Modules\n",
    "Modules can be imported using the `import` keyword."
   ]
  },
  {
   "cell_type": "code",
   "execution_count": 1,
   "metadata": {},
   "outputs": [],
   "source": [
    "import math\n",
    "\n",
    "num = 16\n",
    "sqrt_value = math.sqrt(num)\n",
    "print(f\"The square root of {num} is {sqrt_value}\")"
   ]
  }
 ],
 "metadata": {
  "kernelspec": {
   "display_name": "Python 3 (ipykernel)",
   "language": "python",
   "name": "python3"
  },
  "language_info": {
   "codemirror_mode": {
    "name": "ipython",
    "version": 3
   },
   "file_extension": ".py",
   "mimetype": "text/x-python",
   "name": "python",
   "nbconvert_exporter": "python",
   "pygments_lexer": "ipython3",
   "version": "3.11.5"
  }
 },
 "nbformat": 4,
 "nbformat_minor": 4
}

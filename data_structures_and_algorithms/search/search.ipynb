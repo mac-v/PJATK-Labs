{
 "cells": [
  {
   "metadata": {},
   "cell_type": "markdown",
   "source": "# Binary search\n",
   "id": "8d9b9c4d84606324"
  },
  {
   "metadata": {},
   "cell_type": "markdown",
   "source": "### binary_search_with_offset(elements,key)",
   "id": "5d0c55ff673f4abf"
  },
  {
   "metadata": {
    "ExecuteTime": {
     "end_time": "2025-01-12T15:14:34.166473Z",
     "start_time": "2025-01-12T15:14:34.159087Z"
    }
   },
   "cell_type": "code",
   "source": [
    "elements = [0, 1, 3, 5, 6, 7, 9, 10, 12, 13, 15, 17]\n",
    "key = 14\n",
    "\n",
    "def binary_search_with_offset(elements, key):\n",
    "    offset = 0\n",
    "    division_count = 0\n",
    "    while True:\n",
    "\n",
    "        next_index = len(elements) // 2\n",
    "        if elements[next_index] == key:\n",
    "            return offset + next_index\n",
    "        if len(elements) == 1:\n",
    "            print(f\"Key {key} not found after {division_count} divisions\")\n",
    "            return -1\n",
    "\n",
    "        division_count += 1\n",
    "\n",
    "        if key > elements[next_index]:\n",
    "            offset += next_index\n",
    "            elements = elements[next_index:]\n",
    "            print(f\"Step {division_count} divisions, Offset {offset}: (right division) {elements}\")\n",
    "        else:\n",
    "            elements = elements[:next_index]\n",
    "            print(f\"Step {division_count} divisions Offset {offset}: (left division) {elements}\")\n",
    "\n",
    "\n",
    "binary_search_with_offset(elements, key)"
   ],
   "id": "5d1fe1f576c8faa1",
   "outputs": [
    {
     "name": "stdout",
     "output_type": "stream",
     "text": [
      "Step 1 divisions, Offset 6: (right division) [9, 10, 12, 13, 15, 17]\n",
      "Step 2 divisions, Offset 9: (right division) [13, 15, 17]\n",
      "Step 3 divisions Offset 9: (left division) [13]\n",
      "Key 14 not found after 3 divisions\n"
     ]
    },
    {
     "data": {
      "text/plain": [
       "-1"
      ]
     },
     "execution_count": 1,
     "metadata": {},
     "output_type": "execute_result"
    }
   ],
   "execution_count": 1
  },
  {
   "metadata": {},
   "cell_type": "markdown",
   "source": [
    "#### Description\n",
    "* In this approach offset store and return correct index of searched key\n",
    "* Offset is only modified/changed when the algorithm divide set and choose right - in this case we are \"loosing\" indexes/elements on the left.\n"
   ],
   "id": "303da8e816477e5c"
  },
  {
   "metadata": {},
   "cell_type": "markdown",
   "source": "### binary_search(elements,key)",
   "id": "164f616ff9121b25"
  },
  {
   "metadata": {
    "ExecuteTime": {
     "end_time": "2025-01-12T15:15:45.852372Z",
     "start_time": "2025-01-12T15:15:45.840791Z"
    }
   },
   "cell_type": "code",
   "source": [
    "elements = [0, 1, 3, 5, 6, 7, 9, 10, 12, 13, 15, 17]\n",
    "key = 14\n",
    "\n",
    "def binary_search(elements, key):\n",
    "    left, right = 0, len(elements) - 1\n",
    "    division_count = 0\n",
    "\n",
    "    while left <= right:\n",
    "        mid = (left + right) // 2\n",
    "\n",
    "        if elements[mid] == key:\n",
    "            print(f\"Key {key} found after {division_count} divisions (Index: {mid})\")\n",
    "            return mid\n",
    "\n",
    "        if key > elements[mid]:\n",
    "            print(f\"Step {division_count}: right division (Range: {mid + 1} to {right})\")\n",
    "            left = mid + 1\n",
    "        else:\n",
    "            print(f\"Step {division_count}: left division (Range: {left} to {mid - 1})\")\n",
    "            right = mid - 1\n",
    "\n",
    "        division_count += 1\n",
    "\n",
    "    print(f\"Key {key} not found after {division_count} divisions\")\n",
    "    return -1\n",
    "\n",
    "\n",
    "result = binary_search(elements, key)"
   ],
   "id": "bd5db503a97ef78b",
   "outputs": [
    {
     "name": "stdout",
     "output_type": "stream",
     "text": [
      "Step 0: right division (Range: 6 to 11)\n",
      "Step 1: right division (Range: 9 to 11)\n",
      "Step 2: left division (Range: 9 to 9)\n",
      "Step 3: right division (Range: 10 to 9)\n",
      "Key 14 not found after 4 divisions\n"
     ]
    }
   ],
   "execution_count": 2
  },
  {
   "metadata": {},
   "cell_type": "markdown",
   "source": [
    "#### Description\n",
    "* Left and right variables which points to start and end of divided elements -  instead of using offset\n",
    "* Left na right variable eliminates modifying array of elements\n"
   ],
   "id": "812ae516e84280ba"
  },
  {
   "metadata": {},
   "cell_type": "markdown",
   "source": "### binary_search_recursion(elemets, key)",
   "id": "b31e80812ff08d02"
  },
  {
   "metadata": {
    "ExecuteTime": {
     "end_time": "2025-01-10T18:08:56.158813Z",
     "start_time": "2025-01-10T18:08:56.151553Z"
    }
   },
   "cell_type": "code",
   "source": [
    "def binary_search_recursion(elements, key):\n",
    "    next_index = len // 2\n",
    "    print(next_index)\n",
    "\n",
    "    if elements[next_index] == key:\n",
    "        return next_index"
   ],
   "id": "2253eff6c43eaef8",
   "outputs": [],
   "execution_count": 30
  },
  {
   "metadata": {},
   "cell_type": "code",
   "outputs": [],
   "execution_count": null,
   "source": "",
   "id": "28b8d310c211c818"
  }
 ],
 "metadata": {
  "kernelspec": {
   "name": "python3",
   "language": "python",
   "display_name": "Python 3 (ipykernel)"
  }
 },
 "nbformat": 5,
 "nbformat_minor": 9
}
